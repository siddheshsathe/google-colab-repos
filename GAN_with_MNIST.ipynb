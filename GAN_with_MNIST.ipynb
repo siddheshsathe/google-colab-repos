{
  "nbformat": 4,
  "nbformat_minor": 0,
  "metadata": {
    "colab": {
      "name": "GAN with MNIST",
      "provenance": [],
      "collapsed_sections": [],
      "include_colab_link": true
    },
    "kernelspec": {
      "name": "python3",
      "display_name": "Python 3"
    },
    "accelerator": "GPU"
  },
  "cells": [
    {
      "cell_type": "markdown",
      "metadata": {
        "id": "view-in-github",
        "colab_type": "text"
      },
      "source": [
        "<a href=\"https://colab.research.google.com/github/siddheshsathe/google-colab-repos/blob/master/GAN_with_MNIST.ipynb\" target=\"_parent\"><img src=\"https://colab.research.google.com/assets/colab-badge.svg\" alt=\"Open In Colab\"/></a>"
      ]
    },
    {
      "cell_type": "markdown",
      "metadata": {
        "id": "3a4u4Hj1x-XH",
        "colab_type": "text"
      },
      "source": [
        "# Using MNIST data for learning working of GANs"
      ]
    },
    {
      "cell_type": "markdown",
      "metadata": {
        "id": "3LiumFTQyH4H",
        "colab_type": "text"
      },
      "source": [
        "Below are the steps that we'll be following\n",
        "<br>\n",
        "* Load data using `keras`'s built in `load_data`\n",
        "* For demo/learning purpose we'll just use any one data class (anyone from 0 through 9), let's use 1\n",
        "* Create `generator` model \n",
        "> * This model will have any latent (primary input noise) shape \n",
        "> * Eventually we'll make this with reshaping and/or upsampling the 2D images to the desired output image shape\n",
        "> * While building this model, we'll not compile this as it will be compiled directly in the complete GAN model\n",
        "* Create `discriminator` model\n",
        "> * This model will just be a `binary classification` model which will output that the input to this model is a real or a fake image\n",
        "> * Thus the output layer will consist of a `Dense` layer with single neuron.\n",
        "> * Input shape of this model is of input image shape\n",
        "> * Compile the model with `binary_crossentropy` and any suitable optimizer\n",
        "* The training phase of this GAN model is not just usual with `fit` method\n",
        "* We'll need to train the `discriminator` with below labels\n",
        "> * `fake = 0`\n",
        "> * `real = 1`\n"
      ]
    },
    {
      "cell_type": "markdown",
      "metadata": {
        "id": "kBPiecdS6dVX",
        "colab_type": "text"
      },
      "source": [
        "#1. Loading Data"
      ]
    },
    {
      "cell_type": "code",
      "metadata": {
        "id": "CTUa7we5xgTe",
        "colab_type": "code",
        "colab": {
          "base_uri": "https://localhost:8080/",
          "height": 71
        },
        "outputId": "a6b12bf9-a1fb-4302-b620-cbe38ab68f2b"
      },
      "source": [
        "%tensorflow_version 2.x\n",
        "from tensorflow.keras.datasets import mnist\n",
        "(X_train, y_train), (X_test, y_test) = mnist.load_data()\n",
        "\n",
        "import numpy as np\n",
        "X_train = np.reshape(X_train, (X_train.shape[0], X_train.shape[1], X_train.shape[2], 1))\n",
        "X_test = np.reshape(X_test, (X_test.shape[0], X_test.shape[1], X_test.shape[2], 1))"
      ],
      "execution_count": 1,
      "outputs": [
        {
          "output_type": "stream",
          "text": [
            "TensorFlow 2.x selected.\n",
            "Downloading data from https://storage.googleapis.com/tensorflow/tf-keras-datasets/mnist.npz\n",
            "11493376/11490434 [==============================] - 0s 0us/step\n"
          ],
          "name": "stdout"
        }
      ]
    },
    {
      "cell_type": "markdown",
      "metadata": {
        "id": "K1a0AaBp7SGc",
        "colab_type": "text"
      },
      "source": [
        "#2. Defining the models"
      ]
    },
    {
      "cell_type": "code",
      "metadata": {
        "id": "yIHBeFr06rYL",
        "colab_type": "code",
        "colab": {}
      },
      "source": [
        "import tensorflow as tf\n",
        "from tensorflow.keras.models import Sequential\n",
        "from tensorflow.keras.layers import Dense, Conv2D, UpSampling2D, Flatten, LeakyReLU, BatchNormalization, Reshape, Dropout\n",
        "from tensorflow.keras.optimizers import SGD"
      ],
      "execution_count": 0,
      "outputs": []
    },
    {
      "cell_type": "code",
      "metadata": {
        "id": "34DMAOL2HzW9",
        "colab_type": "code",
        "colab": {}
      },
      "source": [
        "coding_size = 100 # Initial latent size"
      ],
      "execution_count": 0,
      "outputs": []
    },
    {
      "cell_type": "code",
      "metadata": {
        "id": "gVqvUzMfzHWX",
        "colab_type": "code",
        "colab": {}
      },
      "source": [
        "generator = Sequential()\n",
        "\n",
        "generator.add(Dense(7 * 7 * 256, activation='relu', input_shape=(100,)))\n",
        "generator.add(Reshape((7, 7, 256)))\n",
        "\n",
        "generator.add(Conv2D(128, kernel_size=5, strides=1, padding='same', activation='relu'))\n",
        "generator.add(Dropout(0.4))\n",
        "\n",
        "generator.add(UpSampling2D())\n",
        "\n",
        "generator.add(Conv2D(64, kernel_size=5, strides=1, padding='same', activation='relu'))\n",
        "generator.add(Dropout(0.4))\n",
        "\n",
        "generator.add(UpSampling2D())\n",
        "\n",
        "generator.add(BatchNormalization(momentum=0.15))\n",
        "\n",
        "generator.add(Conv2D(1, kernel_size=5, strides=1, padding='same', activation='relu'))\n",
        "generator.add(Dropout(0.4))"
      ],
      "execution_count": 0,
      "outputs": []
    },
    {
      "cell_type": "code",
      "metadata": {
        "id": "qPHhy5oL_Npo",
        "colab_type": "code",
        "colab": {}
      },
      "source": [
        "discriminator = Sequential()\n",
        "discriminator.add(Conv2D(64, kernel_size=5, strides=2, padding=\"same\",\n",
        "                        activation=LeakyReLU(0.3),\n",
        "                        input_shape=[28, 28, 1]))\n",
        "discriminator.add(Dropout(0.5))\n",
        "discriminator.add(Conv2D(128, kernel_size=5, strides=2, padding=\"same\",\n",
        "                        activation=LeakyReLU(0.3)))\n",
        "discriminator.add(Dropout(0.5))\n",
        "discriminator.add(Flatten())\n",
        "discriminator.add(Dense(1, activation=\"sigmoid\"))\n",
        "discriminator.compile(loss=\"binary_crossentropy\", optimizer=\"adam\", metrics=['accuracy'])"
      ],
      "execution_count": 0,
      "outputs": []
    },
    {
      "cell_type": "code",
      "metadata": {
        "id": "5WscWwfx_ivc",
        "colab_type": "code",
        "colab": {}
      },
      "source": [
        "GAN = Sequential([generator, discriminator])"
      ],
      "execution_count": 0,
      "outputs": []
    },
    {
      "cell_type": "code",
      "metadata": {
        "id": "QmLei45f_y_1",
        "colab_type": "code",
        "colab": {}
      },
      "source": [
        "discriminator.trainable = False"
      ],
      "execution_count": 0,
      "outputs": []
    },
    {
      "cell_type": "code",
      "metadata": {
        "id": "AKG-tYlY_6Py",
        "colab_type": "code",
        "colab": {}
      },
      "source": [
        "GAN.compile(optimizer='adam', loss='binary_crossentropy', metrics=['accuracy'])"
      ],
      "execution_count": 0,
      "outputs": []
    },
    {
      "cell_type": "code",
      "metadata": {
        "id": "tmzBsU1vACBN",
        "colab_type": "code",
        "colab": {
          "base_uri": "https://localhost:8080/",
          "height": 235
        },
        "outputId": "b2d1bc00-a0dd-4dea-e8a1-329158027995"
      },
      "source": [
        "GAN.summary()"
      ],
      "execution_count": 13,
      "outputs": [
        {
          "output_type": "stream",
          "text": [
            "Model: \"sequential_6\"\n",
            "_________________________________________________________________\n",
            "Layer (type)                 Output Shape              Param #   \n",
            "=================================================================\n",
            "sequential_4 (Sequential)    (None, 28, 28, 1)         2292993   \n",
            "_________________________________________________________________\n",
            "sequential_5 (Sequential)    (None, 1)                 212865    \n",
            "=================================================================\n",
            "Total params: 2,505,858\n",
            "Trainable params: 2,292,865\n",
            "Non-trainable params: 212,993\n",
            "_________________________________________________________________\n"
          ],
          "name": "stdout"
        }
      ]
    },
    {
      "cell_type": "code",
      "metadata": {
        "id": "IpYfSls-03H3",
        "colab_type": "code",
        "colab": {
          "base_uri": "https://localhost:8080/",
          "height": 563
        },
        "outputId": "ed9514bf-3de3-429a-840c-3bd261aec67e"
      },
      "source": [
        "GAN.layers[0].summary()"
      ],
      "execution_count": 14,
      "outputs": [
        {
          "output_type": "stream",
          "text": [
            "Model: \"sequential_4\"\n",
            "_________________________________________________________________\n",
            "Layer (type)                 Output Shape              Param #   \n",
            "=================================================================\n",
            "dense_3 (Dense)              (None, 12544)             1266944   \n",
            "_________________________________________________________________\n",
            "reshape_1 (Reshape)          (None, 7, 7, 256)         0         \n",
            "_________________________________________________________________\n",
            "conv2d_4 (Conv2D)            (None, 7, 7, 128)         819328    \n",
            "_________________________________________________________________\n",
            "dropout_4 (Dropout)          (None, 7, 7, 128)         0         \n",
            "_________________________________________________________________\n",
            "up_sampling2d_2 (UpSampling2 (None, 14, 14, 128)       0         \n",
            "_________________________________________________________________\n",
            "conv2d_5 (Conv2D)            (None, 14, 14, 64)        204864    \n",
            "_________________________________________________________________\n",
            "dropout_5 (Dropout)          (None, 14, 14, 64)        0         \n",
            "_________________________________________________________________\n",
            "up_sampling2d_3 (UpSampling2 (None, 28, 28, 64)        0         \n",
            "_________________________________________________________________\n",
            "batch_normalization_1 (Batch (None, 28, 28, 64)        256       \n",
            "_________________________________________________________________\n",
            "conv2d_6 (Conv2D)            (None, 28, 28, 1)         1601      \n",
            "_________________________________________________________________\n",
            "dropout_6 (Dropout)          (None, 28, 28, 1)         0         \n",
            "=================================================================\n",
            "Total params: 2,292,993\n",
            "Trainable params: 2,292,865\n",
            "Non-trainable params: 128\n",
            "_________________________________________________________________\n"
          ],
          "name": "stdout"
        }
      ]
    },
    {
      "cell_type": "markdown",
      "metadata": {
        "id": "KpZ7PWR2AlUR",
        "colab_type": "text"
      },
      "source": [
        "#3. Setting up training batches"
      ]
    },
    {
      "cell_type": "code",
      "metadata": {
        "id": "jd6QfyBgAGeA",
        "colab_type": "code",
        "colab": {}
      },
      "source": [
        "dataset = tf.data.Dataset.from_tensor_slices(X_train).shuffle(buffer_size=coding_size)"
      ],
      "execution_count": 0,
      "outputs": []
    },
    {
      "cell_type": "code",
      "metadata": {
        "id": "WlvowxtKB1ND",
        "colab_type": "code",
        "colab": {}
      },
      "source": [
        "batch_size = 32\n",
        "dataset = dataset.batch(batch_size=batch_size, drop_remainder=True)"
      ],
      "execution_count": 0,
      "outputs": []
    },
    {
      "cell_type": "markdown",
      "metadata": {
        "id": "IkR_zd6YC5wh",
        "colab_type": "text"
      },
      "source": [
        "#4. Training"
      ]
    },
    {
      "cell_type": "code",
      "metadata": {
        "id": "EurROONQr04Z",
        "colab_type": "code",
        "colab": {
          "base_uri": "https://localhost:8080/",
          "height": 1000
        },
        "outputId": "0f09c538-f857-4907-dcf9-50f7ad533ca7"
      },
      "source": [
        "i = 0\n",
        "epochs = 20\n",
        "for epoch in range(epochs):\n",
        "    print(f\"Epoch: {epoch}\")\n",
        "    for x_data in dataset:\n",
        "        # Generating the fake noise to feed in to generator\n",
        "        noise = tf.random.normal([batch_size, coding_size])\n",
        "\n",
        "        gen_images = generator(noise) # These will be fake images. Will be used to feed to the discriminator to show how fake images look\n",
        "\n",
        "        # Creating labels for fake_and_real images\n",
        "        y_fake_real = tf.constant([[0.]] * batch_size + [[1.]] * batch_size)\n",
        "\n",
        "        # Creating x_data to be fed to discriminator. This has fake images and real images\n",
        "        x_data_to_discriminator = tf.concat([gen_images, tf.dtypes.cast(x_data, tf.float32)], axis=0)\n",
        "\n",
        "        # Discriminator training\n",
        "        discriminator.trainable = True\n",
        "\n",
        "        discriminator_loss = discriminator.train_on_batch(x_data_to_discriminator, y_fake_real)\n",
        "\n",
        "        discriminator.trainable = False\n",
        "\n",
        "        # Generator training\n",
        "        y_label_generator = tf.constant([[1.0]] * batch_size)\n",
        "\n",
        "        gan_loss = GAN.train_on_batch(noise, y_label_generator)\n",
        "\n",
        "        if i % 200 == 0:\n",
        "            print(f\"Discriminator Loss: {discriminator_loss}\")\n",
        "            print(f\"GAN Loss: {gan_loss}\")\n",
        "        i += 1"
      ],
      "execution_count": 17,
      "outputs": [
        {
          "output_type": "stream",
          "text": [
            "Epoch: 0\n",
            "Discriminator Loss: [2.2922628, 0.546875]\n",
            "GAN Loss: [0.4152518, 1.0]\n",
            "Discriminator Loss: [1.9229115e-06, 1.0]\n",
            "GAN Loss: [0.07765864, 0.96875]\n",
            "Discriminator Loss: [0.0015598723, 1.0]\n",
            "GAN Loss: [0.0009630422, 1.0]\n",
            "Discriminator Loss: [0.21546817, 0.96875]\n",
            "GAN Loss: [6.1404734e-15, 1.0]\n",
            "Discriminator Loss: [0.008419101, 1.0]\n",
            "GAN Loss: [1.6332394e-10, 1.0]\n",
            "Discriminator Loss: [0.30253753, 0.984375]\n",
            "GAN Loss: [2.110637e-27, 1.0]\n",
            "Discriminator Loss: [1.20228115e-05, 1.0]\n",
            "GAN Loss: [1.2170891e-35, 1.0]\n",
            "Discriminator Loss: [1.2813614e-22, 1.0]\n",
            "GAN Loss: [0.0, 1.0]\n",
            "Discriminator Loss: [5.543957e-15, 1.0]\n",
            "GAN Loss: [0.0, 1.0]\n",
            "Discriminator Loss: [3.150439e-08, 1.0]\n",
            "GAN Loss: [0.0, 1.0]\n",
            "Epoch: 1\n",
            "Discriminator Loss: [5.8090096e-22, 1.0]\n",
            "GAN Loss: [0.0, 1.0]\n",
            "Discriminator Loss: [7.110388e-07, 1.0]\n",
            "GAN Loss: [4.2495025e-35, 1.0]\n",
            "Discriminator Loss: [0.08969195, 0.984375]\n",
            "GAN Loss: [2.6193784e-37, 1.0]\n",
            "Discriminator Loss: [2.7543217e-30, 1.0]\n",
            "GAN Loss: [0.0, 1.0]\n",
            "Discriminator Loss: [0.0, 1.0]\n",
            "GAN Loss: [0.0, 1.0]\n",
            "Discriminator Loss: [2.0362681e-22, 1.0]\n",
            "GAN Loss: [0.0, 1.0]\n",
            "Discriminator Loss: [1.4974246, 0.984375]\n",
            "GAN Loss: [0.0, 1.0]\n",
            "Discriminator Loss: [0.40101832, 0.96875]\n",
            "GAN Loss: [0.0, 1.0]\n",
            "Discriminator Loss: [1.282828e-10, 1.0]\n",
            "GAN Loss: [0.0, 1.0]\n",
            "Epoch: 2\n",
            "Discriminator Loss: [0.72407633, 0.984375]\n",
            "GAN Loss: [0.0, 1.0]\n",
            "Discriminator Loss: [9.57799e-10, 1.0]\n",
            "GAN Loss: [0.0, 1.0]\n",
            "Discriminator Loss: [0.0, 1.0]\n",
            "GAN Loss: [0.0, 1.0]\n",
            "Discriminator Loss: [0.0, 1.0]\n",
            "GAN Loss: [0.0, 1.0]\n",
            "Discriminator Loss: [0.0, 1.0]\n",
            "GAN Loss: [0.0, 1.0]\n",
            "Discriminator Loss: [0.81592435, 0.984375]\n",
            "GAN Loss: [0.0, 1.0]\n",
            "Discriminator Loss: [0.9413285, 0.984375]\n",
            "GAN Loss: [0.0, 1.0]\n",
            "Discriminator Loss: [0.0, 1.0]\n",
            "GAN Loss: [0.0, 1.0]\n",
            "Discriminator Loss: [0.6582195, 0.984375]\n",
            "GAN Loss: [0.0, 1.0]\n",
            "Discriminator Loss: [5.5088415, 0.96875]\n",
            "GAN Loss: [0.0, 1.0]\n",
            "Epoch: 3\n",
            "Discriminator Loss: [0.0, 1.0]\n",
            "GAN Loss: [0.0, 1.0]\n",
            "Discriminator Loss: [0.0, 1.0]\n",
            "GAN Loss: [0.0, 1.0]\n",
            "Discriminator Loss: [0.0, 1.0]\n",
            "GAN Loss: [0.0, 1.0]\n",
            "Discriminator Loss: [0.0, 1.0]\n",
            "GAN Loss: [0.0, 1.0]\n",
            "Discriminator Loss: [0.0, 1.0]\n",
            "GAN Loss: [0.0, 1.0]\n",
            "Discriminator Loss: [1.6235695e-35, 1.0]\n",
            "GAN Loss: [0.0, 1.0]\n",
            "Discriminator Loss: [0.0, 1.0]\n",
            "GAN Loss: [0.0, 1.0]\n",
            "Discriminator Loss: [0.0, 1.0]\n",
            "GAN Loss: [0.0, 1.0]\n",
            "Discriminator Loss: [0.0, 1.0]\n",
            "GAN Loss: [0.0, 1.0]\n",
            "Epoch: 4\n",
            "Discriminator Loss: [2.7027586e-38, 1.0]\n",
            "GAN Loss: [0.0, 1.0]\n",
            "Discriminator Loss: [0.0, 1.0]\n",
            "GAN Loss: [0.0, 1.0]\n",
            "Discriminator Loss: [0.0, 1.0]\n",
            "GAN Loss: [0.0, 1.0]\n",
            "Discriminator Loss: [0.0, 1.0]\n",
            "GAN Loss: [0.0, 1.0]\n",
            "Discriminator Loss: [0.0, 1.0]\n",
            "GAN Loss: [0.0, 1.0]\n",
            "Discriminator Loss: [0.0, 1.0]\n",
            "GAN Loss: [0.0, 1.0]\n",
            "Discriminator Loss: [0.0, 1.0]\n",
            "GAN Loss: [0.0, 1.0]\n",
            "Discriminator Loss: [0.0, 1.0]\n",
            "GAN Loss: [0.0, 1.0]\n",
            "Discriminator Loss: [0.0, 1.0]\n",
            "GAN Loss: [0.0, 1.0]\n",
            "Epoch: 5\n",
            "Discriminator Loss: [3.2446232, 0.984375]\n",
            "GAN Loss: [0.0, 1.0]\n",
            "Discriminator Loss: [0.0, 1.0]\n",
            "GAN Loss: [0.0, 1.0]\n",
            "Discriminator Loss: [0.0, 1.0]\n",
            "GAN Loss: [0.0, 1.0]\n",
            "Discriminator Loss: [0.0, 1.0]\n",
            "GAN Loss: [0.0, 1.0]\n",
            "Discriminator Loss: [0.0, 1.0]\n",
            "GAN Loss: [0.0, 1.0]\n",
            "Discriminator Loss: [0.0, 1.0]\n",
            "GAN Loss: [0.0, 1.0]\n",
            "Discriminator Loss: [0.0, 1.0]\n",
            "GAN Loss: [0.0, 1.0]\n",
            "Discriminator Loss: [0.0, 1.0]\n",
            "GAN Loss: [0.0, 1.0]\n",
            "Discriminator Loss: [0.0, 1.0]\n",
            "GAN Loss: [0.0, 1.0]\n",
            "Discriminator Loss: [0.0, 1.0]\n",
            "GAN Loss: [0.0, 1.0]\n",
            "Epoch: 6\n",
            "Discriminator Loss: [0.0, 1.0]\n",
            "GAN Loss: [0.0, 1.0]\n",
            "Discriminator Loss: [0.0, 1.0]\n",
            "GAN Loss: [0.0, 1.0]\n",
            "Discriminator Loss: [0.0, 1.0]\n",
            "GAN Loss: [0.0, 1.0]\n",
            "Discriminator Loss: [0.0, 1.0]\n",
            "GAN Loss: [0.0, 1.0]\n",
            "Discriminator Loss: [0.0, 1.0]\n",
            "GAN Loss: [0.0, 1.0]\n",
            "Discriminator Loss: [0.0, 1.0]\n",
            "GAN Loss: [0.0, 1.0]\n",
            "Discriminator Loss: [0.0, 1.0]\n",
            "GAN Loss: [0.0, 1.0]\n",
            "Discriminator Loss: [0.0, 1.0]\n",
            "GAN Loss: [0.0, 1.0]\n",
            "Discriminator Loss: [0.0, 1.0]\n",
            "GAN Loss: [0.0, 1.0]\n",
            "Epoch: 7\n",
            "Discriminator Loss: [0.0, 1.0]\n",
            "GAN Loss: [0.0, 1.0]\n",
            "Discriminator Loss: [9.940923, 0.96875]\n",
            "GAN Loss: [0.0, 1.0]\n",
            "Discriminator Loss: [0.0, 1.0]\n",
            "GAN Loss: [0.0, 1.0]\n",
            "Discriminator Loss: [0.0, 1.0]\n",
            "GAN Loss: [0.0, 1.0]\n",
            "Discriminator Loss: [0.0, 1.0]\n",
            "GAN Loss: [0.0, 1.0]\n",
            "Discriminator Loss: [0.0, 1.0]\n",
            "GAN Loss: [0.0, 1.0]\n",
            "Discriminator Loss: [0.0, 1.0]\n",
            "GAN Loss: [0.0, 1.0]\n",
            "Discriminator Loss: [0.0, 1.0]\n",
            "GAN Loss: [0.0, 1.0]\n",
            "Discriminator Loss: [0.0, 1.0]\n",
            "GAN Loss: [0.0, 1.0]\n",
            "Epoch: 8\n",
            "Discriminator Loss: [0.0, 1.0]\n",
            "GAN Loss: [0.0, 1.0]\n",
            "Discriminator Loss: [0.0, 1.0]\n",
            "GAN Loss: [0.0, 1.0]\n",
            "Discriminator Loss: [0.0, 1.0]\n",
            "GAN Loss: [0.0, 1.0]\n",
            "Discriminator Loss: [0.0, 1.0]\n",
            "GAN Loss: [0.0, 1.0]\n",
            "Discriminator Loss: [0.0, 1.0]\n",
            "GAN Loss: [0.0, 1.0]\n",
            "Discriminator Loss: [3.2488942, 0.984375]\n",
            "GAN Loss: [0.0, 1.0]\n",
            "Discriminator Loss: [0.0, 1.0]\n",
            "GAN Loss: [0.0, 1.0]\n",
            "Discriminator Loss: [0.0, 1.0]\n",
            "GAN Loss: [0.0, 1.0]\n",
            "Discriminator Loss: [0.0, 1.0]\n",
            "GAN Loss: [0.0, 1.0]\n",
            "Discriminator Loss: [0.0, 1.0]\n",
            "GAN Loss: [0.0, 1.0]\n",
            "Epoch: 9\n",
            "Discriminator Loss: [0.0, 1.0]\n",
            "GAN Loss: [0.0, 1.0]\n",
            "Discriminator Loss: [0.0, 1.0]\n",
            "GAN Loss: [0.0, 1.0]\n",
            "Discriminator Loss: [0.0, 1.0]\n",
            "GAN Loss: [0.0, 1.0]\n",
            "Discriminator Loss: [0.0, 1.0]\n",
            "GAN Loss: [0.0, 1.0]\n",
            "Discriminator Loss: [0.0, 1.0]\n",
            "GAN Loss: [49.78401, 0.96875]\n",
            "Discriminator Loss: [0.0, 1.0]\n",
            "GAN Loss: [0.0, 1.0]\n",
            "Discriminator Loss: [0.0, 1.0]\n",
            "GAN Loss: [0.0, 1.0]\n",
            "Discriminator Loss: [0.0, 1.0]\n",
            "GAN Loss: [0.0, 1.0]\n",
            "Discriminator Loss: [0.0, 1.0]\n",
            "GAN Loss: [0.0, 1.0]\n",
            "Epoch: 10\n",
            "Discriminator Loss: [0.0, 1.0]\n",
            "GAN Loss: [0.0, 1.0]\n",
            "Discriminator Loss: [0.0, 1.0]\n",
            "GAN Loss: [0.0, 1.0]\n",
            "Discriminator Loss: [0.0, 1.0]\n",
            "GAN Loss: [0.0, 1.0]\n",
            "Discriminator Loss: [0.0, 1.0]\n",
            "GAN Loss: [0.0, 1.0]\n",
            "Discriminator Loss: [0.0, 1.0]\n",
            "GAN Loss: [0.0, 1.0]\n",
            "Discriminator Loss: [0.0, 1.0]\n",
            "GAN Loss: [0.0, 1.0]\n",
            "Discriminator Loss: [0.0, 1.0]\n",
            "GAN Loss: [0.0, 1.0]\n",
            "Discriminator Loss: [5.905916, 0.96875]\n",
            "GAN Loss: [0.0, 1.0]\n",
            "Discriminator Loss: [0.0, 1.0]\n",
            "GAN Loss: [0.0, 1.0]\n",
            "Discriminator Loss: [0.0, 1.0]\n",
            "GAN Loss: [0.0, 1.0]\n",
            "Epoch: 11\n",
            "Discriminator Loss: [0.0, 1.0]\n",
            "GAN Loss: [0.0, 1.0]\n",
            "Discriminator Loss: [0.0, 1.0]\n",
            "GAN Loss: [0.0, 1.0]\n",
            "Discriminator Loss: [0.0, 1.0]\n",
            "GAN Loss: [0.0, 1.0]\n",
            "Discriminator Loss: [0.0, 1.0]\n",
            "GAN Loss: [0.0, 1.0]\n",
            "Discriminator Loss: [0.0, 1.0]\n",
            "GAN Loss: [0.0, 1.0]\n",
            "Discriminator Loss: [0.0, 1.0]\n",
            "GAN Loss: [0.0, 1.0]\n",
            "Discriminator Loss: [0.0, 1.0]\n",
            "GAN Loss: [0.0, 1.0]\n",
            "Discriminator Loss: [2.3219045e-29, 1.0]\n",
            "GAN Loss: [0.0, 1.0]\n",
            "Discriminator Loss: [0.0, 1.0]\n",
            "GAN Loss: [0.0, 1.0]\n",
            "Epoch: 12\n",
            "Discriminator Loss: [0.0, 1.0]\n",
            "GAN Loss: [0.0, 1.0]\n",
            "Discriminator Loss: [0.0, 1.0]\n",
            "GAN Loss: [0.0, 1.0]\n",
            "Discriminator Loss: [0.0, 1.0]\n",
            "GAN Loss: [0.0, 1.0]\n",
            "Discriminator Loss: [0.0, 1.0]\n",
            "GAN Loss: [0.0, 1.0]\n",
            "Discriminator Loss: [0.0, 1.0]\n",
            "GAN Loss: [0.0, 1.0]\n",
            "Discriminator Loss: [0.0, 1.0]\n",
            "GAN Loss: [0.0, 1.0]\n",
            "Discriminator Loss: [0.0, 1.0]\n",
            "GAN Loss: [0.0, 1.0]\n",
            "Discriminator Loss: [0.0, 1.0]\n",
            "GAN Loss: [0.0, 1.0]\n",
            "Discriminator Loss: [0.0, 1.0]\n",
            "GAN Loss: [0.0, 1.0]\n",
            "Epoch: 13\n",
            "Discriminator Loss: [0.0, 1.0]\n",
            "GAN Loss: [0.0, 1.0]\n",
            "Discriminator Loss: [0.0, 1.0]\n",
            "GAN Loss: [0.0, 1.0]\n",
            "Discriminator Loss: [0.0, 1.0]\n",
            "GAN Loss: [0.0, 1.0]\n",
            "Discriminator Loss: [0.0, 1.0]\n",
            "GAN Loss: [0.0, 1.0]\n",
            "Discriminator Loss: [0.0, 1.0]\n",
            "GAN Loss: [0.0, 1.0]\n",
            "Discriminator Loss: [0.0, 1.0]\n",
            "GAN Loss: [0.0, 1.0]\n",
            "Discriminator Loss: [2.5267575, 0.984375]\n",
            "GAN Loss: [0.0, 1.0]\n",
            "Discriminator Loss: [0.0, 1.0]\n",
            "GAN Loss: [0.0, 1.0]\n",
            "Discriminator Loss: [0.0, 1.0]\n",
            "GAN Loss: [0.0, 1.0]\n",
            "Discriminator Loss: [0.0, 1.0]\n",
            "GAN Loss: [0.0, 1.0]\n",
            "Epoch: 14\n",
            "Discriminator Loss: [0.0, 1.0]\n",
            "GAN Loss: [0.0, 1.0]\n",
            "Discriminator Loss: [0.0, 1.0]\n",
            "GAN Loss: [0.0, 1.0]\n",
            "Discriminator Loss: [0.0, 1.0]\n",
            "GAN Loss: [0.0, 1.0]\n",
            "Discriminator Loss: [0.0, 1.0]\n",
            "GAN Loss: [0.0, 1.0]\n",
            "Discriminator Loss: [0.0, 1.0]\n",
            "GAN Loss: [0.0, 1.0]\n",
            "Discriminator Loss: [0.0, 1.0]\n",
            "GAN Loss: [0.0, 1.0]\n",
            "Discriminator Loss: [0.0, 1.0]\n",
            "GAN Loss: [0.0, 1.0]\n",
            "Discriminator Loss: [0.0, 1.0]\n",
            "GAN Loss: [0.0, 1.0]\n",
            "Discriminator Loss: [0.0, 1.0]\n",
            "GAN Loss: [0.0, 1.0]\n",
            "Epoch: 15\n",
            "Discriminator Loss: [0.0, 1.0]\n",
            "GAN Loss: [0.0, 1.0]\n",
            "Discriminator Loss: [0.0, 1.0]\n",
            "GAN Loss: [0.0, 1.0]\n",
            "Discriminator Loss: [0.0, 1.0]\n",
            "GAN Loss: [0.0, 1.0]\n",
            "Discriminator Loss: [0.0, 1.0]\n",
            "GAN Loss: [0.0, 1.0]\n",
            "Discriminator Loss: [0.0, 1.0]\n",
            "GAN Loss: [0.0, 1.0]\n",
            "Discriminator Loss: [0.0, 1.0]\n",
            "GAN Loss: [0.0, 1.0]\n",
            "Discriminator Loss: [0.0, 1.0]\n",
            "GAN Loss: [0.0, 1.0]\n",
            "Discriminator Loss: [0.0, 1.0]\n",
            "GAN Loss: [0.0, 1.0]\n",
            "Discriminator Loss: [0.0, 1.0]\n",
            "GAN Loss: [0.0, 1.0]\n",
            "Epoch: 16\n",
            "Discriminator Loss: [0.0, 1.0]\n",
            "GAN Loss: [0.0, 1.0]\n",
            "Discriminator Loss: [0.0, 1.0]\n",
            "GAN Loss: [0.0, 1.0]\n",
            "Discriminator Loss: [0.0, 1.0]\n",
            "GAN Loss: [0.0, 1.0]\n",
            "Discriminator Loss: [0.0, 1.0]\n",
            "GAN Loss: [0.0, 1.0]\n",
            "Discriminator Loss: [0.0, 1.0]\n",
            "GAN Loss: [0.0, 1.0]\n",
            "Discriminator Loss: [0.0, 1.0]\n",
            "GAN Loss: [0.0, 1.0]\n",
            "Discriminator Loss: [0.0, 1.0]\n",
            "GAN Loss: [0.0, 1.0]\n",
            "Discriminator Loss: [0.0, 1.0]\n",
            "GAN Loss: [0.0, 1.0]\n",
            "Discriminator Loss: [0.0, 1.0]\n",
            "GAN Loss: [0.0, 1.0]\n",
            "Discriminator Loss: [0.0, 1.0]\n",
            "GAN Loss: [0.0, 1.0]\n",
            "Epoch: 17\n",
            "Discriminator Loss: [0.0, 1.0]\n",
            "GAN Loss: [0.0, 1.0]\n",
            "Discriminator Loss: [0.0, 1.0]\n",
            "GAN Loss: [0.0, 1.0]\n",
            "Discriminator Loss: [12.346229, 0.984375]\n",
            "GAN Loss: [0.0, 1.0]\n",
            "Discriminator Loss: [0.0, 1.0]\n",
            "GAN Loss: [0.0, 1.0]\n",
            "Discriminator Loss: [0.0, 1.0]\n",
            "GAN Loss: [0.0, 1.0]\n",
            "Discriminator Loss: [0.0, 1.0]\n",
            "GAN Loss: [0.0, 1.0]\n",
            "Discriminator Loss: [0.0, 1.0]\n",
            "GAN Loss: [0.0, 1.0]\n",
            "Discriminator Loss: [0.0, 1.0]\n",
            "GAN Loss: [0.0, 1.0]\n",
            "Discriminator Loss: [0.0, 1.0]\n",
            "GAN Loss: [0.0, 1.0]\n",
            "Epoch: 18\n",
            "Discriminator Loss: [0.0, 1.0]\n",
            "GAN Loss: [0.0, 1.0]\n",
            "Discriminator Loss: [0.0, 1.0]\n",
            "GAN Loss: [0.0, 1.0]\n",
            "Discriminator Loss: [0.0, 1.0]\n",
            "GAN Loss: [0.0, 1.0]\n",
            "Discriminator Loss: [0.0, 1.0]\n",
            "GAN Loss: [0.0, 1.0]\n",
            "Discriminator Loss: [0.0, 1.0]\n",
            "GAN Loss: [0.0, 1.0]\n",
            "Discriminator Loss: [0.0, 1.0]\n",
            "GAN Loss: [0.0, 1.0]\n",
            "Discriminator Loss: [0.0, 1.0]\n",
            "GAN Loss: [0.0, 1.0]\n",
            "Discriminator Loss: [0.0, 1.0]\n",
            "GAN Loss: [0.0, 1.0]\n",
            "Discriminator Loss: [0.0, 1.0]\n",
            "GAN Loss: [0.0, 1.0]\n",
            "Discriminator Loss: [0.0, 1.0]\n",
            "GAN Loss: [0.0, 1.0]\n",
            "Epoch: 19\n",
            "Discriminator Loss: [0.0, 1.0]\n",
            "GAN Loss: [0.0, 1.0]\n",
            "Discriminator Loss: [0.0, 1.0]\n",
            "GAN Loss: [0.0, 1.0]\n",
            "Discriminator Loss: [0.0, 1.0]\n",
            "GAN Loss: [0.0, 1.0]\n",
            "Discriminator Loss: [0.0, 1.0]\n",
            "GAN Loss: [0.0, 1.0]\n",
            "Discriminator Loss: [0.0, 1.0]\n",
            "GAN Loss: [0.0, 1.0]\n",
            "Discriminator Loss: [0.0, 1.0]\n",
            "GAN Loss: [0.0, 1.0]\n",
            "Discriminator Loss: [0.0, 1.0]\n",
            "GAN Loss: [0.0, 1.0]\n",
            "Discriminator Loss: [0.0, 1.0]\n",
            "GAN Loss: [0.0, 1.0]\n",
            "Discriminator Loss: [0.0, 1.0]\n",
            "GAN Loss: [0.0, 1.0]\n"
          ],
          "name": "stdout"
        }
      ]
    },
    {
      "cell_type": "markdown",
      "metadata": {
        "id": "Yb8hmSzPNyyB",
        "colab_type": "text"
      },
      "source": [
        "# 5. Generating data with trained model"
      ]
    },
    {
      "cell_type": "code",
      "metadata": {
        "id": "F77dAhOGGnH1",
        "colab_type": "code",
        "colab": {
          "base_uri": "https://localhost:8080/",
          "height": 35
        },
        "outputId": "beaa463a-c051-4e09-f6fa-381191c10d29"
      },
      "source": [
        "noise = tf.random.normal([1, coding_size])\n",
        "noise.shape"
      ],
      "execution_count": 26,
      "outputs": [
        {
          "output_type": "execute_result",
          "data": {
            "text/plain": [
              "TensorShape([1, 100])"
            ]
          },
          "metadata": {
            "tags": []
          },
          "execution_count": 26
        }
      ]
    },
    {
      "cell_type": "code",
      "metadata": {
        "id": "qCjAi4XUOBqH",
        "colab_type": "code",
        "colab": {}
      },
      "source": [
        "generated_image = generator(noise)"
      ],
      "execution_count": 0,
      "outputs": []
    },
    {
      "cell_type": "code",
      "metadata": {
        "id": "vNOJF0i3OH5j",
        "colab_type": "code",
        "colab": {
          "base_uri": "https://localhost:8080/",
          "height": 35
        },
        "outputId": "00ca5c92-4c26-4569-a5e7-2e545ea9d527"
      },
      "source": [
        "generated_image.shape"
      ],
      "execution_count": 20,
      "outputs": [
        {
          "output_type": "execute_result",
          "data": {
            "text/plain": [
              "TensorShape([1, 28, 28, 1])"
            ]
          },
          "metadata": {
            "tags": []
          },
          "execution_count": 20
        }
      ]
    },
    {
      "cell_type": "code",
      "metadata": {
        "id": "RcoDHF3zOTKw",
        "colab_type": "code",
        "colab": {}
      },
      "source": [
        "import matplotlib.pyplot as plt"
      ],
      "execution_count": 0,
      "outputs": []
    },
    {
      "cell_type": "code",
      "metadata": {
        "id": "aK-GtivQOXex",
        "colab_type": "code",
        "colab": {
          "base_uri": "https://localhost:8080/",
          "height": 283
        },
        "outputId": "493f85ba-3aed-4f83-8f71-05949ded5d9a"
      },
      "source": [
        "plt.imshow(generated_image[0].numpy().reshape(28, 28), cmap='gray')"
      ],
      "execution_count": 32,
      "outputs": [
        {
          "output_type": "execute_result",
          "data": {
            "text/plain": [
              "<matplotlib.image.AxesImage at 0x7fcc4e1f63c8>"
            ]
          },
          "metadata": {
            "tags": []
          },
          "execution_count": 32
        },
        {
          "output_type": "display_data",
          "data": {
            "image/png": "[encoded data removed]",
            "text/plain": [
              "<Figure size 432x288 with 1 Axes>"
            ]
          },
          "metadata": {
            "tags": []
          }
        }
      ]
    },
    {
      "cell_type": "code",
      "metadata": {
        "id": "BrPUIo0X1Wtu",
        "colab_type": "code",
        "colab": {}
      },
      "source": [
        ""
      ],
      "execution_count": 0,
      "outputs": []
    }
  ]
}